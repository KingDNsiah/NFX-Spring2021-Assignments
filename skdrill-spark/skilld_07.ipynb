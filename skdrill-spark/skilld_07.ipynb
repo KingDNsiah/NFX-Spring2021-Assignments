{
 "cells": [
  {
   "cell_type": "code",
   "execution_count": 1,
   "metadata": {
    "colab": {
     "base_uri": "https://localhost:8080/"
    },
    "id": "mpIt1qJ0xQBD",
    "outputId": "ffec46c5-ca55-418d-8787-8f950c7c5247"
   },
   "outputs": [
    {
     "name": "stdout",
     "output_type": "stream",
     "text": [
      "\r",
      "0% [Working]\r",
      "            \r",
      "Get:1 https://cloud.r-project.org/bin/linux/ubuntu bionic-cran40/ InRelease [3,626 B]\n",
      "\r",
      "0% [Connecting to archive.ubuntu.com] [Connecting to security.ubuntu.com (91.18\r",
      "0% [Connecting to archive.ubuntu.com] [Connecting to security.ubuntu.com (91.18\r",
      "0% [1 InRelease gpgv 3,626 B] [Connecting to archive.ubuntu.com] [Connecting to\r",
      "                                                                               \r",
      "Ign:2 https://developer.download.nvidia.com/compute/cuda/repos/ubuntu1804/x86_64  InRelease\n",
      "\r",
      "0% [1 InRelease gpgv 3,626 B] [Connecting to archive.ubuntu.com (91.189.88.142)\r",
      "                                                                               \r",
      "Get:3 http://ppa.launchpad.net/c2d4u.team/c2d4u4.0+/ubuntu bionic InRelease [15.9 kB]\n",
      "\r",
      "0% [1 InRelease gpgv 3,626 B] [Connecting to archive.ubuntu.com (91.189.88.142)\r",
      "                                                                               \r",
      "Get:4 http://security.ubuntu.com/ubuntu bionic-security InRelease [88.7 kB]\n",
      "Ign:5 https://developer.download.nvidia.com/compute/machine-learning/repos/ubuntu1804/x86_64  InRelease\n",
      "Hit:6 https://developer.download.nvidia.com/compute/cuda/repos/ubuntu1804/x86_64  Release\n",
      "Hit:7 https://developer.download.nvidia.com/compute/machine-learning/repos/ubuntu1804/x86_64  Release\n",
      "Hit:8 http://archive.ubuntu.com/ubuntu bionic InRelease\n",
      "Get:9 http://archive.ubuntu.com/ubuntu bionic-updates InRelease [88.7 kB]\n",
      "Hit:10 http://ppa.launchpad.net/cran/libgit2/ubuntu bionic InRelease\n",
      "Get:11 http://ppa.launchpad.net/deadsnakes/ppa/ubuntu bionic InRelease [15.9 kB]\n",
      "Get:12 http://archive.ubuntu.com/ubuntu bionic-backports InRelease [74.6 kB]\n",
      "Hit:13 http://ppa.launchpad.net/graphics-drivers/ppa/ubuntu bionic InRelease\n",
      "Get:16 http://ppa.launchpad.net/c2d4u.team/c2d4u4.0+/ubuntu bionic/main Sources [1,751 kB]\n",
      "Get:17 http://security.ubuntu.com/ubuntu bionic-security/restricted amd64 Packages [372 kB]\n",
      "Get:18 http://security.ubuntu.com/ubuntu bionic-security/universe amd64 Packages [1,404 kB]\n",
      "Get:19 http://ppa.launchpad.net/c2d4u.team/c2d4u4.0+/ubuntu bionic/main amd64 Packages [896 kB]\n",
      "Get:20 http://security.ubuntu.com/ubuntu bionic-security/main amd64 Packages [2,077 kB]\n",
      "Get:21 http://archive.ubuntu.com/ubuntu bionic-updates/main amd64 Packages [2,508 kB]\n",
      "Get:22 http://archive.ubuntu.com/ubuntu bionic-updates/universe amd64 Packages [2,175 kB]\n",
      "Get:23 http://ppa.launchpad.net/deadsnakes/ppa/ubuntu bionic/main amd64 Packages [39.5 kB]\n",
      "Get:24 http://archive.ubuntu.com/ubuntu bionic-updates/restricted amd64 Packages [402 kB]\n",
      "Fetched 11.9 MB in 4s (3,342 kB/s)\n",
      "Reading package lists... Done\n"
     ]
    }
   ],
   "source": [
    "import os\n",
    "spark_version = 'spark-3.0.2'\n",
    "os.environ['SPARK_VERSION']=spark_version\n",
    "\n",
    "!apt-get update\n",
    "!apt-get install openjdk-11-jdk-headless -qq > /dev/null\n",
    "!wget -q http://www-us.apache.org/dist/spark/$SPARK_VERSION/$SPARK_VERSION-bin-hadoop2.7.tgz\n",
    "!tar xf $SPARK_VERSION-bin-hadoop2.7.tgz\n",
    "!pip install -q findspark\n",
    "\n",
    "os.environ[\"JAVA_HOME\"] = \"/usr/lib/jvm/java-11-openjdk-amd64\"\n",
    "os.environ[\"SPARK_HOME\"] = f\"/content/{spark_version}-bin-hadoop2.7\"\n",
    "\n",
    "import findspark\n",
    "findspark.init()"
   ]
  },
  {
   "cell_type": "code",
   "execution_count": 2,
   "metadata": {
    "id": "ZVaFiZd7xSHa"
   },
   "outputs": [],
   "source": [
    "from pyspark.sql import SparkSession\n",
    "from pyspark.sql import Row\n",
    "from pyspark.sql.types import StructType,StructField,StringType, DateType,IntegerType\n",
    "\n",
    "import time\n",
    "\n",
    "## SparkSession\n",
    "spark = SparkSession.builder.appName(\"SparkSQL\").getOrCreate()"
   ]
  },
  {
   "cell_type": "code",
   "execution_count": 3,
   "metadata": {
    "id": "0aRDRZ3fx1lI"
   },
   "outputs": [],
   "source": [
    "from pyspark import SparkFiles"
   ]
  },
  {
   "cell_type": "code",
   "execution_count": 5,
   "metadata": {
    "id": "B6de9Lrkx5Rm"
   },
   "outputs": [],
   "source": [
    "df = spark.read.text('peterpan.txt')"
   ]
  },
  {
   "cell_type": "code",
   "execution_count": 6,
   "metadata": {
    "colab": {
     "base_uri": "https://localhost:8080/"
    },
    "id": "SROF0iaix7Xz",
    "outputId": "43b83c6b-472f-44a2-fb8f-c08681972cd0"
   },
   "outputs": [
    {
     "name": "stdout",
     "output_type": "stream",
     "text": [
      "+--------------------+\n",
      "|               value|\n",
      "+--------------------+\n",
      "|All children, exc...|\n",
      "|Of course they li...|\n",
      "|The way Mr. Darli...|\n",
      "|Mr. Darling used ...|\n",
      "|Mrs. Darling was ...|\n",
      "|Wendy came first,...|\n",
      "|For a week or two...|\n",
      "|“Now don't interr...|\n",
      "|“I have one pound...|\n",
      "|“Of course we can...|\n",
      "|“Remember mumps,”...|\n",
      "|There was the sam...|\n",
      "|Mrs. Darling love...|\n",
      "|No nursery could ...|\n",
      "|He had his positi...|\n",
      "|Nana also trouble...|\n",
      "|Mrs. Darling firs...|\n",
      "|I don't know whet...|\n",
      "|Of course the Nev...|\n",
      "|Of all delectable...|\n",
      "+--------------------+\n",
      "only showing top 20 rows\n",
      "\n"
     ]
    }
   ],
   "source": [
    "df.show()"
   ]
  },
  {
   "cell_type": "code",
   "execution_count": 8,
   "metadata": {
    "colab": {
     "base_uri": "https://localhost:8080/"
    },
    "id": "TVqEAbOWyc3E",
    "outputId": "4b922d2b-5ab2-48b6-9e9b-4416fe572e1e"
   },
   "outputs": [
    {
     "name": "stdout",
     "output_type": "stream",
     "text": [
      "+--------------+\n",
      "|         value|\n",
      "+--------------+\n",
      "|  ('one,', 15)|\n",
      "| ('They', 101)|\n",
      "|  ('know', 64)|\n",
      "|   ('way', 58)|\n",
      "|  ('was', 897)|\n",
      "|    ('One', 9)|\n",
      "| ('when', 151)|\n",
      "|   ('two', 36)|\n",
      "|  ('years', 3)|\n",
      "|   ('in', 623)|\n",
      "|('garden,', 1)|\n",
      "|('plucked', 2)|\n",
      "| ('flower', 2)|\n",
      "|   ('ran', 17)|\n",
      "|  ('her', 361)|\n",
      "|('suppose', 7)|\n",
      "|  ('must', 59)|\n",
      "| ('have', 243)|\n",
      "|('looked', 33)|\n",
      "|('rather', 40)|\n",
      "+--------------+\n",
      "only showing top 20 rows\n",
      "\n"
     ]
    }
   ],
   "source": [
    "## file reading and calibration. \n",
    "from operator import add\n",
    "data = spark.sparkContext.textFile('peterpan.txt')\n",
    "data_split = data.flatMap(lambda line: line.split(\" \"))\n",
    "count = data_split.map(lambda word: (word, 1))\n",
    "\n",
    "counts = count.reduceByKey(add)\n",
    "\n",
    "#Save file.\n",
    "counts.saveAsTextFile('peterpanwords.txt')\n",
    "spark.read.text('peterpanwords.txt').show()"
   ]
  },
  {
   "cell_type": "code",
   "execution_count": null,
   "metadata": {
    "id": "ybacif2WykM8"
   },
   "outputs": [],
   "source": []
  }
 ],
 "metadata": {
  "colab": {
   "name": "skilld-07.ipynb",
   "provenance": []
  },
  "kernelspec": {
   "display_name": "Python 3",
   "language": "python",
   "name": "python3"
  },
  "language_info": {
   "codemirror_mode": {
    "name": "ipython",
    "version": 3
   },
   "file_extension": ".py",
   "mimetype": "text/x-python",
   "name": "python",
   "nbconvert_exporter": "python",
   "pygments_lexer": "ipython3",
   "version": "3.8.5"
  }
 },
 "nbformat": 4,
 "nbformat_minor": 1
}
